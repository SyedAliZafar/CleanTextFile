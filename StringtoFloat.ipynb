{
 "cells": [
  {
   "cell_type": "code",
   "execution_count": 12,
   "id": "e5a5a761",
   "metadata": {},
   "outputs": [],
   "source": [
    "import pandas as pd\n",
    "import numpy as np\n",
    "import csv"
   ]
  },
  {
   "cell_type": "code",
   "execution_count": 13,
   "id": "86729d41",
   "metadata": {},
   "outputs": [],
   "source": [
    "## Convert into float"
   ]
  },
  {
   "cell_type": "code",
   "execution_count": 14,
   "id": "fff76928",
   "metadata": {},
   "outputs": [],
   "source": [
    "df=pd.read_csv(\"finaltext.txt\", sep=\" \", header=None)"
   ]
  },
  {
   "cell_type": "code",
   "execution_count": 15,
   "id": "35ca825f",
   "metadata": {},
   "outputs": [],
   "source": [
    "#df.head()"
   ]
  },
  {
   "cell_type": "code",
   "execution_count": 16,
   "id": "7692e38b",
   "metadata": {},
   "outputs": [],
   "source": [
    "df=df.iloc[: , :-1]"
   ]
  },
  {
   "cell_type": "code",
   "execution_count": 17,
   "id": "c599a9f7",
   "metadata": {},
   "outputs": [],
   "source": [
    "df.to_csv(\"ali.csv\",sep=\" \", index=None)"
   ]
  },
  {
   "cell_type": "code",
   "execution_count": 18,
   "id": "781af711",
   "metadata": {},
   "outputs": [],
   "source": [
    "df1=pd.read_csv(\"ali.csv\", sep=\" \")"
   ]
  },
  {
   "cell_type": "code",
   "execution_count": 19,
   "id": "e39aa464",
   "metadata": {},
   "outputs": [],
   "source": [
    "#df1"
   ]
  },
  {
   "cell_type": "code",
   "execution_count": 20,
   "id": "95a8e11d",
   "metadata": {},
   "outputs": [],
   "source": [
    "def read_xyz(path_to_pc):\n",
    "    X = []\n",
    "    with open(path_to_pc) as f:\n",
    "        reader = csv.reader(f, delimiter=' ')\n",
    "        for row in reader:\n",
    "            X.append(list(map(float, row)))\n",
    "    return X\n"
   ]
  },
  {
   "cell_type": "code",
   "execution_count": 21,
   "id": "8dfa181a",
   "metadata": {},
   "outputs": [],
   "source": [
    "X_fix = np.array(read_xyz(\"ali.csv\"))"
   ]
  },
  {
   "cell_type": "code",
   "execution_count": 22,
   "id": "dd4e0c32",
   "metadata": {},
   "outputs": [
    {
     "data": {
      "text/plain": [
       "array([[  2.72 , -25.   ,   4.612],\n",
       "       [  2.8  , -25.   ,   4.538],\n",
       "       [  2.88 , -25.   ,   4.465],\n",
       "       ...,\n",
       "       [ 16.56 ,  25.   ,  -5.696],\n",
       "       [ 16.64 ,  25.   ,  -5.741],\n",
       "       [ 16.72 ,  25.   ,  -5.797]])"
      ]
     },
     "execution_count": 22,
     "metadata": {},
     "output_type": "execute_result"
    }
   ],
   "source": [
    "X_fix[1:]"
   ]
  },
  {
   "cell_type": "code",
   "execution_count": null,
   "id": "b48c861c",
   "metadata": {},
   "outputs": [],
   "source": []
  }
 ],
 "metadata": {
  "kernelspec": {
   "display_name": "Python 3",
   "language": "python",
   "name": "python3"
  },
  "language_info": {
   "codemirror_mode": {
    "name": "ipython",
    "version": 3
   },
   "file_extension": ".py",
   "mimetype": "text/x-python",
   "name": "python",
   "nbconvert_exporter": "python",
   "pygments_lexer": "ipython3",
   "version": "3.6.15"
  }
 },
 "nbformat": 4,
 "nbformat_minor": 5
}
