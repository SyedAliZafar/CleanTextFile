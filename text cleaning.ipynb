{
 "cells": [
  {
   "cell_type": "code",
   "execution_count": 1,
   "id": "904fb6bb",
   "metadata": {},
   "outputs": [],
   "source": [
    "import numpy as np\n",
    "import pandas as pd"
   ]
  },
  {
   "cell_type": "code",
   "execution_count": 2,
   "id": "20aab752",
   "metadata": {},
   "outputs": [],
   "source": [
    "df = pd.read_csv(r\"Thrash/cleaningtext.txt\",header=None,names=['x','y','z'])"
   ]
  },
  {
   "cell_type": "code",
   "execution_count": 3,
   "id": "26a1d35d",
   "metadata": {},
   "outputs": [
    {
     "data": {
      "text/html": [
       "<div>\n",
       "<style scoped>\n",
       "    .dataframe tbody tr th:only-of-type {\n",
       "        vertical-align: middle;\n",
       "    }\n",
       "\n",
       "    .dataframe tbody tr th {\n",
       "        vertical-align: top;\n",
       "    }\n",
       "\n",
       "    .dataframe thead th {\n",
       "        text-align: right;\n",
       "    }\n",
       "</style>\n",
       "<table border=\"1\" class=\"dataframe\">\n",
       "  <thead>\n",
       "    <tr style=\"text-align: right;\">\n",
       "      <th></th>\n",
       "      <th>x</th>\n",
       "      <th>y</th>\n",
       "      <th>z</th>\n",
       "    </tr>\n",
       "  </thead>\n",
       "  <tbody>\n",
       "    <tr>\n",
       "      <th>0</th>\n",
       "      <td>['2.447255360000000000e+08\\n'</td>\n",
       "      <td>'5.362485148569218770e+28\\n'</td>\n",
       "      <td>'1.849372043765027315e+31\\n']</td>\n",
       "    </tr>\n",
       "    <tr>\n",
       "      <th>1</th>\n",
       "      <td>['1.021212720194480662e+22\\n'</td>\n",
       "      <td>'4.701808699307098445e+30\\n'</td>\n",
       "      <td>'1.917782836534219738e-19\\n']</td>\n",
       "    </tr>\n",
       "    <tr>\n",
       "      <th>2</th>\n",
       "      <td>['2.795536109274430177e+20\\n'</td>\n",
       "      <td>'1.128918601218136107e+27\\n'</td>\n",
       "      <td>'1.109178002515096568e+27\\n']</td>\n",
       "    </tr>\n",
       "  </tbody>\n",
       "</table>\n",
       "</div>"
      ],
      "text/plain": [
       "                               x                              y  \\\n",
       "0  ['2.447255360000000000e+08\\n'   '5.362485148569218770e+28\\n'   \n",
       "1  ['1.021212720194480662e+22\\n'   '4.701808699307098445e+30\\n'   \n",
       "2  ['2.795536109274430177e+20\\n'   '1.128918601218136107e+27\\n'   \n",
       "\n",
       "                                z  \n",
       "0   '1.849372043765027315e+31\\n']  \n",
       "1   '1.917782836534219738e-19\\n']  \n",
       "2   '1.109178002515096568e+27\\n']  "
      ]
     },
     "execution_count": 3,
     "metadata": {},
     "output_type": "execute_result"
    }
   ],
   "source": [
    "df.head()"
   ]
  },
  {
   "cell_type": "code",
   "execution_count": 4,
   "id": "2c84e0bd",
   "metadata": {},
   "outputs": [],
   "source": [
    "### Removing the brackets"
   ]
  },
  {
   "cell_type": "code",
   "execution_count": 5,
   "id": "80cea2e7",
   "metadata": {},
   "outputs": [
    {
     "name": "stderr",
     "output_type": "stream",
     "text": [
      "C:\\Users\\admin\\anaconda3\\envs\\icp_env\\lib\\site-packages\\ipykernel_launcher.py:1: FutureWarning: The default value of regex will change from True to False in a future version.\n",
      "  \"\"\"Entry point for launching an IPython kernel.\n",
      "C:\\Users\\admin\\anaconda3\\envs\\icp_env\\lib\\site-packages\\ipykernel_launcher.py:2: FutureWarning: The default value of regex will change from True to False in a future version.\n",
      "  \n",
      "C:\\Users\\admin\\anaconda3\\envs\\icp_env\\lib\\site-packages\\ipykernel_launcher.py:3: FutureWarning: The default value of regex will change from True to False in a future version.\n",
      "  This is separate from the ipykernel package so we can avoid doing imports until\n"
     ]
    }
   ],
   "source": [
    "\n",
    "df['x'] = df['x'].astype(str).str.replace(r'\\[|\\]|,', ' ')\n",
    "df['y'] = df['y'].astype(str).str.replace(r'\\[|\\]|,', ' ')\n",
    "df['z'] = df['z'].astype(str).str.replace(r'\\[|\\]|,', ' ')"
   ]
  },
  {
   "cell_type": "code",
   "execution_count": 6,
   "id": "bc699d61",
   "metadata": {},
   "outputs": [],
   "source": [
    "df3 = df.replace(r'\\\\n','', regex=True)"
   ]
  },
  {
   "cell_type": "code",
   "execution_count": 7,
   "id": "fbff1f88",
   "metadata": {},
   "outputs": [],
   "source": [
    "#df3 = df.replace(r'',' ', regex=True)"
   ]
  },
  {
   "cell_type": "code",
   "execution_count": 8,
   "id": "b63aff9d",
   "metadata": {},
   "outputs": [
    {
     "data": {
      "text/html": [
       "<div>\n",
       "<style scoped>\n",
       "    .dataframe tbody tr th:only-of-type {\n",
       "        vertical-align: middle;\n",
       "    }\n",
       "\n",
       "    .dataframe tbody tr th {\n",
       "        vertical-align: top;\n",
       "    }\n",
       "\n",
       "    .dataframe thead th {\n",
       "        text-align: right;\n",
       "    }\n",
       "</style>\n",
       "<table border=\"1\" class=\"dataframe\">\n",
       "  <thead>\n",
       "    <tr style=\"text-align: right;\">\n",
       "      <th></th>\n",
       "      <th>x</th>\n",
       "      <th>y</th>\n",
       "      <th>z</th>\n",
       "    </tr>\n",
       "  </thead>\n",
       "  <tbody>\n",
       "    <tr>\n",
       "      <th>0</th>\n",
       "      <td>'2.447255360000000000e+08\\n'</td>\n",
       "      <td>'5.362485148569218770e+28\\n'</td>\n",
       "      <td>'1.849372043765027315e+31\\n'</td>\n",
       "    </tr>\n",
       "    <tr>\n",
       "      <th>1</th>\n",
       "      <td>'1.021212720194480662e+22\\n'</td>\n",
       "      <td>'4.701808699307098445e+30\\n'</td>\n",
       "      <td>'1.917782836534219738e-19\\n'</td>\n",
       "    </tr>\n",
       "    <tr>\n",
       "      <th>2</th>\n",
       "      <td>'2.795536109274430177e+20\\n'</td>\n",
       "      <td>'1.128918601218136107e+27\\n'</td>\n",
       "      <td>'1.109178002515096568e+27\\n'</td>\n",
       "    </tr>\n",
       "  </tbody>\n",
       "</table>\n",
       "</div>"
      ],
      "text/plain": [
       "                               x                              y  \\\n",
       "0   '2.447255360000000000e+08\\n'   '5.362485148569218770e+28\\n'   \n",
       "1   '1.021212720194480662e+22\\n'   '4.701808699307098445e+30\\n'   \n",
       "2   '2.795536109274430177e+20\\n'   '1.128918601218136107e+27\\n'   \n",
       "\n",
       "                                z  \n",
       "0   '1.849372043765027315e+31\\n'   \n",
       "1   '1.917782836534219738e-19\\n'   \n",
       "2   '1.109178002515096568e+27\\n'   "
      ]
     },
     "execution_count": 8,
     "metadata": {},
     "output_type": "execute_result"
    }
   ],
   "source": [
    "df3"
   ]
  },
  {
   "cell_type": "code",
   "execution_count": 9,
   "id": "84d39a82",
   "metadata": {},
   "outputs": [],
   "source": [
    "df4=df3.dropna()"
   ]
  },
  {
   "cell_type": "code",
   "execution_count": 13,
   "id": "6cd1a315",
   "metadata": {},
   "outputs": [],
   "source": [
    "df4.to_csv(\"Thrash/OutputSmall.txt\", header=None,index=None)"
   ]
  },
  {
   "cell_type": "code",
   "execution_count": null,
   "id": "79d468c6",
   "metadata": {},
   "outputs": [],
   "source": []
  },
  {
   "cell_type": "code",
   "execution_count": null,
   "id": "878bd6d0",
   "metadata": {},
   "outputs": [],
   "source": [
    "df5=pd.read_csv(\"CalibrationFile/SaveFile/outputME.txt\",header=None)"
   ]
  },
  {
   "cell_type": "code",
   "execution_count": null,
   "id": "21ebfa62",
   "metadata": {},
   "outputs": [],
   "source": [
    "df5.head()"
   ]
  },
  {
   "cell_type": "code",
   "execution_count": null,
   "id": "a14ea8c6",
   "metadata": {},
   "outputs": [],
   "source": []
  },
  {
   "cell_type": "code",
   "execution_count": null,
   "id": "781d26e1",
   "metadata": {},
   "outputs": [],
   "source": []
  }
 ],
 "metadata": {
  "kernelspec": {
   "display_name": "Python 3",
   "language": "python",
   "name": "python3"
  },
  "language_info": {
   "codemirror_mode": {
    "name": "ipython",
    "version": 3
   },
   "file_extension": ".py",
   "mimetype": "text/x-python",
   "name": "python",
   "nbconvert_exporter": "python",
   "pygments_lexer": "ipython3",
   "version": "3.7.13"
  }
 },
 "nbformat": 4,
 "nbformat_minor": 5
}
