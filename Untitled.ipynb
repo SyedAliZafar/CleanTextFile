{
 "cells": [
  {
   "cell_type": "code",
   "execution_count": 28,
   "id": "96161018",
   "metadata": {},
   "outputs": [],
   "source": [
    "import pandas as pd\n",
    "import numpy as np"
   ]
  },
  {
   "cell_type": "code",
   "execution_count": 29,
   "id": "9510ae82",
   "metadata": {},
   "outputs": [],
   "source": [
    "df5=pd.read_csv(\"OutputSmall.txt\",header=None,names=['x','y','z'])"
   ]
  },
  {
   "cell_type": "code",
   "execution_count": 30,
   "id": "6c392120",
   "metadata": {},
   "outputs": [
    {
     "data": {
      "text/html": [
       "<div>\n",
       "<style scoped>\n",
       "    .dataframe tbody tr th:only-of-type {\n",
       "        vertical-align: middle;\n",
       "    }\n",
       "\n",
       "    .dataframe tbody tr th {\n",
       "        vertical-align: top;\n",
       "    }\n",
       "\n",
       "    .dataframe thead th {\n",
       "        text-align: right;\n",
       "    }\n",
       "</style>\n",
       "<table border=\"1\" class=\"dataframe\">\n",
       "  <thead>\n",
       "    <tr style=\"text-align: right;\">\n",
       "      <th></th>\n",
       "      <th>x</th>\n",
       "      <th>y</th>\n",
       "      <th>z</th>\n",
       "    </tr>\n",
       "  </thead>\n",
       "  <tbody>\n",
       "    <tr>\n",
       "      <th>0</th>\n",
       "      <td>'2.447255360000000000e+08\\n'</td>\n",
       "      <td>'5.362485148569218770e+28\\n'</td>\n",
       "      <td>'1.849372043765027315e+31\\n'</td>\n",
       "    </tr>\n",
       "    <tr>\n",
       "      <th>1</th>\n",
       "      <td>'1.021212720194480662e+22\\n'</td>\n",
       "      <td>'4.701808699307098445e+30\\n'</td>\n",
       "      <td>'1.917782836534219738e-19\\n'</td>\n",
       "    </tr>\n",
       "    <tr>\n",
       "      <th>2</th>\n",
       "      <td>'2.795536109274430177e+20\\n'</td>\n",
       "      <td>'1.128918601218136107e+27\\n'</td>\n",
       "      <td>'1.109178002515096568e+27\\n'</td>\n",
       "    </tr>\n",
       "  </tbody>\n",
       "</table>\n",
       "</div>"
      ],
      "text/plain": [
       "                              x                              y  \\\n",
       "0  '2.447255360000000000e+08\\n'   '5.362485148569218770e+28\\n'   \n",
       "1  '1.021212720194480662e+22\\n'   '4.701808699307098445e+30\\n'   \n",
       "2  '2.795536109274430177e+20\\n'   '1.128918601218136107e+27\\n'   \n",
       "\n",
       "                                z  \n",
       "0   '1.849372043765027315e+31\\n'   \n",
       "1   '1.917782836534219738e-19\\n'   \n",
       "2   '1.109178002515096568e+27\\n'   "
      ]
     },
     "execution_count": 30,
     "metadata": {},
     "output_type": "execute_result"
    }
   ],
   "source": [
    "df5.head()"
   ]
  },
  {
   "cell_type": "code",
   "execution_count": 20,
   "id": "2027d65a",
   "metadata": {},
   "outputs": [],
   "source": [
    "df5['x'] = df5['x'].replace(r'\\s+|\\\\n', ' ', regex=True)"
   ]
  },
  {
   "cell_type": "code",
   "execution_count": 37,
   "id": "087b285a",
   "metadata": {},
   "outputs": [
    {
     "data": {
      "text/html": [
       "<div>\n",
       "<style scoped>\n",
       "    .dataframe tbody tr th:only-of-type {\n",
       "        vertical-align: middle;\n",
       "    }\n",
       "\n",
       "    .dataframe tbody tr th {\n",
       "        vertical-align: top;\n",
       "    }\n",
       "\n",
       "    .dataframe thead th {\n",
       "        text-align: right;\n",
       "    }\n",
       "</style>\n",
       "<table border=\"1\" class=\"dataframe\">\n",
       "  <thead>\n",
       "    <tr style=\"text-align: right;\">\n",
       "      <th></th>\n",
       "      <th>x</th>\n",
       "      <th>y</th>\n",
       "      <th>z</th>\n",
       "    </tr>\n",
       "  </thead>\n",
       "  <tbody>\n",
       "    <tr>\n",
       "      <th>0</th>\n",
       "      <td>'2.447255360000000000e+08'</td>\n",
       "      <td>'5.362485148569218770e+28'</td>\n",
       "      <td>'1.849372043765027315e+31'</td>\n",
       "    </tr>\n",
       "    <tr>\n",
       "      <th>1</th>\n",
       "      <td>'1.021212720194480662e+22'</td>\n",
       "      <td>'4.701808699307098445e+30'</td>\n",
       "      <td>'1.917782836534219738e-19'</td>\n",
       "    </tr>\n",
       "    <tr>\n",
       "      <th>2</th>\n",
       "      <td>'2.795536109274430177e+20'</td>\n",
       "      <td>'1.128918601218136107e+27'</td>\n",
       "      <td>'1.109178002515096568e+27'</td>\n",
       "    </tr>\n",
       "  </tbody>\n",
       "</table>\n",
       "</div>"
      ],
      "text/plain": [
       "                            x                            y  \\\n",
       "0  '2.447255360000000000e+08'   '5.362485148569218770e+28'   \n",
       "1  '1.021212720194480662e+22'   '4.701808699307098445e+30'   \n",
       "2  '2.795536109274430177e+20'   '1.128918601218136107e+27'   \n",
       "\n",
       "                              z  \n",
       "0   '1.849372043765027315e+31'   \n",
       "1   '1.917782836534219738e-19'   \n",
       "2   '1.109178002515096568e+27'   "
      ]
     },
     "execution_count": 37,
     "metadata": {},
     "output_type": "execute_result"
    }
   ],
   "source": [
    "df5.replace(to_replace=[r\"\\\\t|\\\\n|\\\\r\", \"\\t|\\n|\\r\"], value=[\"\",\"\"], regex=True)\n"
   ]
  },
  {
   "cell_type": "code",
   "execution_count": 22,
   "id": "101367d7",
   "metadata": {},
   "outputs": [],
   "source": [
    "df5['x'] = df5['x'].replace(r'\\n', ' ', regex=True)"
   ]
  },
  {
   "cell_type": "code",
   "execution_count": 31,
   "id": "58944df2",
   "metadata": {},
   "outputs": [],
   "source": [
    "table=df5"
   ]
  },
  {
   "cell_type": "code",
   "execution_count": 32,
   "id": "33e95d8f",
   "metadata": {},
   "outputs": [],
   "source": [
    "table = table.replace(r'\\n',  ' ', regex=True)"
   ]
  },
  {
   "cell_type": "code",
   "execution_count": 36,
   "id": "18f1e293",
   "metadata": {},
   "outputs": [
    {
     "data": {
      "text/html": [
       "<div>\n",
       "<style scoped>\n",
       "    .dataframe tbody tr th:only-of-type {\n",
       "        vertical-align: middle;\n",
       "    }\n",
       "\n",
       "    .dataframe tbody tr th {\n",
       "        vertical-align: top;\n",
       "    }\n",
       "\n",
       "    .dataframe thead th {\n",
       "        text-align: right;\n",
       "    }\n",
       "</style>\n",
       "<table border=\"1\" class=\"dataframe\">\n",
       "  <thead>\n",
       "    <tr style=\"text-align: right;\">\n",
       "      <th></th>\n",
       "      <th>x</th>\n",
       "      <th>y</th>\n",
       "      <th>z</th>\n",
       "    </tr>\n",
       "  </thead>\n",
       "  <tbody>\n",
       "    <tr>\n",
       "      <th>0</th>\n",
       "      <td>'2.447255360000000000e+08'</td>\n",
       "      <td>'5.362485148569218770e+28'</td>\n",
       "      <td>'1.849372043765027315e+31'</td>\n",
       "    </tr>\n",
       "    <tr>\n",
       "      <th>1</th>\n",
       "      <td>'1.021212720194480662e+22'</td>\n",
       "      <td>'4.701808699307098445e+30'</td>\n",
       "      <td>'1.917782836534219738e-19'</td>\n",
       "    </tr>\n",
       "    <tr>\n",
       "      <th>2</th>\n",
       "      <td>'2.795536109274430177e+20'</td>\n",
       "      <td>'1.128918601218136107e+27'</td>\n",
       "      <td>'1.109178002515096568e+27'</td>\n",
       "    </tr>\n",
       "  </tbody>\n",
       "</table>\n",
       "</div>"
      ],
      "text/plain": [
       "                            x                            y  \\\n",
       "0  '2.447255360000000000e+08'   '5.362485148569218770e+28'   \n",
       "1  '1.021212720194480662e+22'   '4.701808699307098445e+30'   \n",
       "2  '2.795536109274430177e+20'   '1.128918601218136107e+27'   \n",
       "\n",
       "                              z  \n",
       "0   '1.849372043765027315e+31'   \n",
       "1   '1.917782836534219738e-19'   \n",
       "2   '1.109178002515096568e+27'   "
      ]
     },
     "execution_count": 36,
     "metadata": {},
     "output_type": "execute_result"
    }
   ],
   "source": [
    "df5.replace(to_replace=[r\"\\\\t|\\\\n|\\\\r\", \"\\t|\\n|\\r\"], value=[\"\",\"\"], regex=True)\n"
   ]
  },
  {
   "cell_type": "code",
   "execution_count": null,
   "id": "c9225948",
   "metadata": {},
   "outputs": [],
   "source": []
  }
 ],
 "metadata": {
  "kernelspec": {
   "display_name": "Python 3",
   "language": "python",
   "name": "python3"
  },
  "language_info": {
   "codemirror_mode": {
    "name": "ipython",
    "version": 3
   },
   "file_extension": ".py",
   "mimetype": "text/x-python",
   "name": "python",
   "nbconvert_exporter": "python",
   "pygments_lexer": "ipython3",
   "version": "3.7.13"
  }
 },
 "nbformat": 4,
 "nbformat_minor": 5
}
