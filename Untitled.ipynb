{
 "cells": [
  {
   "cell_type": "code",
   "execution_count": 7,
   "id": "e4051b54",
   "metadata": {},
   "outputs": [
    {
     "data": {
      "text/plain": [
       "True"
      ]
     },
     "execution_count": 7,
     "metadata": {},
     "output_type": "execute_result"
    }
   ],
   "source": [
    "import open3d as o3d\n",
    "\n",
    "pcd = o3d.io.read_point_cloud(\"finalfile.asc\", format=\"xyz\")\n",
    "o3d.io.write_point_cloud(\"output2.pcd\", pcd)"
   ]
  },
  {
   "cell_type": "code",
   "execution_count": 9,
   "id": "7f779cbd",
   "metadata": {},
   "outputs": [],
   "source": [
    "pcd=o3d.io.read_point_cloud(\"output2.pcd\")"
   ]
  },
  {
   "cell_type": "code",
   "execution_count": 10,
   "id": "59d3eb8e",
   "metadata": {},
   "outputs": [],
   "source": [
    "o3d.visualization.draw_geometries([pcd])"
   ]
  },
  {
   "cell_type": "code",
   "execution_count": null,
   "id": "6f447f42",
   "metadata": {},
   "outputs": [],
   "source": []
  },
  {
   "cell_type": "code",
   "execution_count": 1,
   "id": "1f5614af",
   "metadata": {},
   "outputs": [],
   "source": [
    "##############"
   ]
  },
  {
   "cell_type": "code",
   "execution_count": 13,
   "id": "e5a5a761",
   "metadata": {},
   "outputs": [
    {
     "data": {
      "text/plain": [
       "<_csv.reader at 0x20687b46388>"
      ]
     },
     "execution_count": 13,
     "metadata": {},
     "output_type": "execute_result"
    }
   ],
   "source": [
    "reader"
   ]
  },
  {
   "cell_type": "code",
   "execution_count": null,
   "id": "86729d41",
   "metadata": {},
   "outputs": [],
   "source": [
    "## Convert into float"
   ]
  },
  {
   "cell_type": "code",
   "execution_count": 19,
   "id": "fff76928",
   "metadata": {},
   "outputs": [],
   "source": [
    "import pandas as pd\n",
    "\n",
    "df=pd.read_csv(\"finaltext.txt\", sep=\" \", header=None)"
   ]
  },
  {
   "cell_type": "code",
   "execution_count": 20,
   "id": "35ca825f",
   "metadata": {},
   "outputs": [
    {
     "data": {
      "text/html": [
       "<div>\n",
       "<style scoped>\n",
       "    .dataframe tbody tr th:only-of-type {\n",
       "        vertical-align: middle;\n",
       "    }\n",
       "\n",
       "    .dataframe tbody tr th {\n",
       "        vertical-align: top;\n",
       "    }\n",
       "\n",
       "    .dataframe thead th {\n",
       "        text-align: right;\n",
       "    }\n",
       "</style>\n",
       "<table border=\"1\" class=\"dataframe\">\n",
       "  <thead>\n",
       "    <tr style=\"text-align: right;\">\n",
       "      <th></th>\n",
       "      <th>0</th>\n",
       "      <th>1</th>\n",
       "      <th>2</th>\n",
       "      <th>3</th>\n",
       "    </tr>\n",
       "  </thead>\n",
       "  <tbody>\n",
       "    <tr>\n",
       "      <th>0</th>\n",
       "      <td>2.72</td>\n",
       "      <td>-25.0</td>\n",
       "      <td>4.612</td>\n",
       "      <td>NaN</td>\n",
       "    </tr>\n",
       "    <tr>\n",
       "      <th>1</th>\n",
       "      <td>2.80</td>\n",
       "      <td>-25.0</td>\n",
       "      <td>4.538</td>\n",
       "      <td>NaN</td>\n",
       "    </tr>\n",
       "    <tr>\n",
       "      <th>2</th>\n",
       "      <td>2.88</td>\n",
       "      <td>-25.0</td>\n",
       "      <td>4.465</td>\n",
       "      <td>NaN</td>\n",
       "    </tr>\n",
       "    <tr>\n",
       "      <th>3</th>\n",
       "      <td>2.96</td>\n",
       "      <td>-25.0</td>\n",
       "      <td>4.385</td>\n",
       "      <td>NaN</td>\n",
       "    </tr>\n",
       "    <tr>\n",
       "      <th>4</th>\n",
       "      <td>3.04</td>\n",
       "      <td>-25.0</td>\n",
       "      <td>4.298</td>\n",
       "      <td>NaN</td>\n",
       "    </tr>\n",
       "  </tbody>\n",
       "</table>\n",
       "</div>"
      ],
      "text/plain": [
       "      0     1      2   3\n",
       "0  2.72 -25.0  4.612 NaN\n",
       "1  2.80 -25.0  4.538 NaN\n",
       "2  2.88 -25.0  4.465 NaN\n",
       "3  2.96 -25.0  4.385 NaN\n",
       "4  3.04 -25.0  4.298 NaN"
      ]
     },
     "execution_count": 20,
     "metadata": {},
     "output_type": "execute_result"
    }
   ],
   "source": [
    "df.head()"
   ]
  },
  {
   "cell_type": "code",
   "execution_count": 33,
   "id": "7692e38b",
   "metadata": {},
   "outputs": [],
   "source": [
    "df=df.iloc[: , :-1]"
   ]
  },
  {
   "cell_type": "code",
   "execution_count": 34,
   "id": "c599a9f7",
   "metadata": {},
   "outputs": [],
   "source": [
    "df.to_csv(\"ali.csv\",sep=\" \", index=None)"
   ]
  },
  {
   "cell_type": "code",
   "execution_count": 35,
   "id": "781af711",
   "metadata": {},
   "outputs": [],
   "source": [
    "df1=pd.read_csv(\"ali.csv\", sep=\" \")"
   ]
  },
  {
   "cell_type": "code",
   "execution_count": 37,
   "id": "e39aa464",
   "metadata": {},
   "outputs": [
    {
     "data": {
      "text/html": [
       "<div>\n",
       "<style scoped>\n",
       "    .dataframe tbody tr th:only-of-type {\n",
       "        vertical-align: middle;\n",
       "    }\n",
       "\n",
       "    .dataframe tbody tr th {\n",
       "        vertical-align: top;\n",
       "    }\n",
       "\n",
       "    .dataframe thead th {\n",
       "        text-align: right;\n",
       "    }\n",
       "</style>\n",
       "<table border=\"1\" class=\"dataframe\">\n",
       "  <thead>\n",
       "    <tr style=\"text-align: right;\">\n",
       "      <th></th>\n",
       "      <th>0</th>\n",
       "      <th>1</th>\n",
       "      <th>2</th>\n",
       "    </tr>\n",
       "  </thead>\n",
       "  <tbody>\n",
       "    <tr>\n",
       "      <th>0</th>\n",
       "      <td>2.72</td>\n",
       "      <td>-25.0</td>\n",
       "      <td>4.612</td>\n",
       "    </tr>\n",
       "    <tr>\n",
       "      <th>1</th>\n",
       "      <td>2.80</td>\n",
       "      <td>-25.0</td>\n",
       "      <td>4.538</td>\n",
       "    </tr>\n",
       "    <tr>\n",
       "      <th>2</th>\n",
       "      <td>2.88</td>\n",
       "      <td>-25.0</td>\n",
       "      <td>4.465</td>\n",
       "    </tr>\n",
       "    <tr>\n",
       "      <th>3</th>\n",
       "      <td>2.96</td>\n",
       "      <td>-25.0</td>\n",
       "      <td>4.385</td>\n",
       "    </tr>\n",
       "    <tr>\n",
       "      <th>4</th>\n",
       "      <td>3.04</td>\n",
       "      <td>-25.0</td>\n",
       "      <td>4.298</td>\n",
       "    </tr>\n",
       "    <tr>\n",
       "      <th>...</th>\n",
       "      <td>...</td>\n",
       "      <td>...</td>\n",
       "      <td>...</td>\n",
       "    </tr>\n",
       "    <tr>\n",
       "      <th>193749</th>\n",
       "      <td>16.40</td>\n",
       "      <td>25.0</td>\n",
       "      <td>-5.571</td>\n",
       "    </tr>\n",
       "    <tr>\n",
       "      <th>193750</th>\n",
       "      <td>16.48</td>\n",
       "      <td>25.0</td>\n",
       "      <td>-5.627</td>\n",
       "    </tr>\n",
       "    <tr>\n",
       "      <th>193751</th>\n",
       "      <td>16.56</td>\n",
       "      <td>25.0</td>\n",
       "      <td>-5.696</td>\n",
       "    </tr>\n",
       "    <tr>\n",
       "      <th>193752</th>\n",
       "      <td>16.64</td>\n",
       "      <td>25.0</td>\n",
       "      <td>-5.741</td>\n",
       "    </tr>\n",
       "    <tr>\n",
       "      <th>193753</th>\n",
       "      <td>16.72</td>\n",
       "      <td>25.0</td>\n",
       "      <td>-5.797</td>\n",
       "    </tr>\n",
       "  </tbody>\n",
       "</table>\n",
       "<p>193754 rows × 3 columns</p>\n",
       "</div>"
      ],
      "text/plain": [
       "            0     1      2\n",
       "0        2.72 -25.0  4.612\n",
       "1        2.80 -25.0  4.538\n",
       "2        2.88 -25.0  4.465\n",
       "3        2.96 -25.0  4.385\n",
       "4        3.04 -25.0  4.298\n",
       "...       ...   ...    ...\n",
       "193749  16.40  25.0 -5.571\n",
       "193750  16.48  25.0 -5.627\n",
       "193751  16.56  25.0 -5.696\n",
       "193752  16.64  25.0 -5.741\n",
       "193753  16.72  25.0 -5.797\n",
       "\n",
       "[193754 rows x 3 columns]"
      ]
     },
     "execution_count": 37,
     "metadata": {},
     "output_type": "execute_result"
    }
   ],
   "source": [
    "df1"
   ]
  },
  {
   "cell_type": "code",
   "execution_count": 45,
   "id": "95a8e11d",
   "metadata": {},
   "outputs": [],
   "source": [
    "def read_xyz(path_to_pc):\n",
    "    X = []\n",
    "    with open(path_to_pc) as f:\n",
    "        reader = csv.reader(f, delimiter=' ')\n",
    "        for row in reader:\n",
    "            X.append(list(map(float, row)))\n",
    "    return X\n"
   ]
  },
  {
   "cell_type": "code",
   "execution_count": 46,
   "id": "8dfa181a",
   "metadata": {},
   "outputs": [],
   "source": [
    "X_fix = np.array(read_xyz(\"ali.csv\"))"
   ]
  },
  {
   "cell_type": "code",
   "execution_count": 48,
   "id": "dd4e0c32",
   "metadata": {},
   "outputs": [
    {
     "data": {
      "text/plain": [
       "array([[  2.72 , -25.   ,   4.612],\n",
       "       [  2.8  , -25.   ,   4.538],\n",
       "       [  2.88 , -25.   ,   4.465],\n",
       "       ...,\n",
       "       [ 16.56 ,  25.   ,  -5.696],\n",
       "       [ 16.64 ,  25.   ,  -5.741],\n",
       "       [ 16.72 ,  25.   ,  -5.797]])"
      ]
     },
     "execution_count": 48,
     "metadata": {},
     "output_type": "execute_result"
    }
   ],
   "source": [
    "X_fix[1:]"
   ]
  },
  {
   "cell_type": "code",
   "execution_count": null,
   "id": "fd06fc06",
   "metadata": {},
   "outputs": [],
   "source": []
  }
 ],
 "metadata": {
  "kernelspec": {
   "display_name": "Python 3",
   "language": "python",
   "name": "python3"
  },
  "language_info": {
   "codemirror_mode": {
    "name": "ipython",
    "version": 3
   },
   "file_extension": ".py",
   "mimetype": "text/x-python",
   "name": "python",
   "nbconvert_exporter": "python",
   "pygments_lexer": "ipython3",
   "version": "3.6.15"
  }
 },
 "nbformat": 4,
 "nbformat_minor": 5
}
